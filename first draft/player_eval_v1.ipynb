{
 "metadata": {
  "language_info": {
   "codemirror_mode": {
    "name": "ipython",
    "version": 3
   },
   "file_extension": ".py",
   "mimetype": "text/x-python",
   "name": "python",
   "nbconvert_exporter": "python",
   "pygments_lexer": "ipython3",
   "version": "3.8.2-final"
  },
  "orig_nbformat": 2,
  "kernelspec": {
   "name": "python3",
   "display_name": "Python 3.8.2 64-bit",
   "metadata": {
    "interpreter": {
     "hash": "03561ee3ffd67d114b1e0f93376ddc6c0108d7fb9eed7df46da42d048fecaa5f"
    }
   }
  }
 },
 "nbformat": 4,
 "nbformat_minor": 2,
 "cells": [
  {
   "cell_type": "code",
   "execution_count": 12,
   "metadata": {},
   "outputs": [],
   "source": [
    "import os, sys\n",
    "currentdir = os.path.dirname(os.path.abspath(\"\"))\n",
    "parentdir = os.path.dirname(currentdir)\n",
    "sys.path.append(parentdir)"
   ]
  },
  {
   "cell_type": "code",
   "execution_count": 13,
   "metadata": {},
   "outputs": [],
   "source": [
    "module_path = os.path.abspath(os.path.join('..'))\n",
    "if module_path not in sys.path:\n",
    "    sys.path.append(module_path+\"\\\\data\")"
   ]
  },
  {
   "cell_type": "code",
   "execution_count": 14,
   "metadata": {},
   "outputs": [],
   "source": [
    "import joe_thornton as jt\n",
    "import conor_garland as cg"
   ]
  },
  {
   "cell_type": "code",
   "execution_count": 15,
   "metadata": {},
   "outputs": [],
   "source": [
    "def getSignificantResults(matrix):\n",
    "    # this filters out games without recorded actions\n",
    "    reduced_matrix = [r for r in matrix if sum([j for i,j in r]) != 0]\n",
    "    sig_obs = [[0]*13 for i in range(0,4)]\n",
    "\n",
    "    # iterate over the reduced matrix\n",
    "    for game in reduced_matrix:\n",
    "        game_transpose = list(zip(*game))\n",
    "\n",
    "        for sig in range(1,5):\n",
    "            for i in range(0,13):\n",
    "                if sig == game_transpose[1][i]:\n",
    "                    sig_obs[sig-1][i] += game_transpose[0][i]\n",
    "\n",
    "    return [sum(sig) for sig in zip(*sig_obs)]"
   ]
  },
  {
   "cell_type": "code",
   "execution_count": 16,
   "metadata": {},
   "outputs": [],
   "source": [
    "# define a series of helper functions to display our results\n",
    "getResults = lambda M: [sum(game) for game in zip(*[[i for i,j in obs] for obs in M])]\n",
    "table      = lambda cum_list: \"\".join([\"%3d\"]*len(cum_list)) % tuple(cum_list)"
   ]
  },
  {
   "cell_type": "code",
   "execution_count": 19,
   "metadata": {},
   "outputs": [],
   "source": [
    "def outputResults(name,player):\n",
    "    cum_sig_goals = getSignificantResults(player.goal_matrix)\n",
    "    cum_goals = getResults(player.goal_matrix)\n",
    "\n",
    "    cum_sig_pri_assists = getSignificantResults(player.primary_assist_matrix)\n",
    "    cum_pri_assists = getResults(player.primary_assist_matrix)\n",
    "\n",
    "    cum_sig_sec_assists = getSignificantResults(player.secondary_assist_matrix)\n",
    "    cum_sec_assists = getResults(player.secondary_assist_matrix)\n",
    "\n",
    "    total_goals   = sum(cum_goals)\n",
    "    total_assists = sum(cum_sec_assists) + sum(cum_pri_assists)\n",
    "    total_points  = total_goals + total_assists\n",
    "    confirmation  = [total_goals,total_assists,total_points]\n",
    "\n",
    "    total_sig_goals   = sum(cum_sig_goals)\n",
    "    total_sig_assists = sum(cum_sig_sec_assists) + sum(cum_sig_pri_assists)\n",
    "    total_sig_points  = total_sig_goals + total_sig_assists\n",
    "    sig_confirmation  = [total_sig_goals,total_sig_assists,total_sig_points]\n",
    "\n",
    "    print(\"\\n%-25s%35s\" % (name,\"points relative to opponent\"))\n",
    "    print(\"%25s %s\" % (\" \",table(range(-6,7))))\n",
    "\n",
    "    print(\"\\n%-25s %s\" % (\"total goals:\",table(cum_goals)))\n",
    "    print(\"%-25s %s\" % (\"total primary assists:\",table(cum_pri_assists)))\n",
    "    print(\"%-25s %s\" % (\"total secondary assists:\",table(cum_sec_assists)))\n",
    "\n",
    "    print(\"\\n%-25s %s\" % (\"sig. goals:\",table(cum_sig_goals)))\n",
    "    print(\"%-25s %s\" % (\"sig. primary assists:\",table(cum_sig_pri_assists)))\n",
    "    print(\"%-25s %s\\n\" % (\"sig. secondary assists:\",table(cum_sig_sec_assists)))\n",
    "\n",
    "    ratios = [sig_confirmation[i]/confirmation[i] for i in range(0,3)]\n",
    "    print(\"ratios: [\"+', '.join(['%.2f']*3) % tuple(ratios) +\"]\\n\")"
   ]
  },
  {
   "cell_type": "code",
   "execution_count": 20,
   "metadata": {},
   "outputs": [
    {
     "output_type": "stream",
     "name": "stdout",
     "text": [
      "\nconor garland                    points relative to opponent\n                           -6 -5 -4 -3 -2 -1  0  1  2  3  4  5  6\n\ntotal goals:                0  0  0  0  2  1  4  0  1  1  0  0  0\ntotal primary assists:      0  0  0  0  6  1  3  4  0  0  1  0  0\ntotal secondary assists:    0  0  0  0  0  0  1  0  0  0  0  0  0\n\nsig. goals:                 0  0  0  0  2  1  4  0  1  1  0  0  0\nsig. primary assists:       0  0  0  0  6  1  3  4  0  0  0  0  0\nsig. secondary assists:     0  0  0  0  0  0  1  0  0  0  0  0  0\n\nratios: [1.00, 0.94, 0.96]\n\n"
     ]
    }
   ],
   "source": [
    "outputResults(\"conor garland\",cg)"
   ]
  },
  {
   "cell_type": "code",
   "execution_count": 21,
   "metadata": {},
   "outputs": [
    {
     "output_type": "stream",
     "name": "stdout",
     "text": [
      "\njoe thornton                     points relative to opponent\n                           -6 -5 -4 -3 -2 -1  0  1  2  3  4  5  6\n\ntotal goals:                0  0  1  0  0  2  0  1  3  0  0  0  0\ntotal primary assists:      0  0  0  0  2  4  5  5  1  1  0  0  0\ntotal secondary assists:    0  0  0  1  3  4  9  6  2  0  0  0  0\n\nsig. goals:                 0  0  0  0  0  2  0  1  0  0  0  0  0\nsig. primary assists:       0  0  0  0  2  4  5  5  0  0  0  0  0\nsig. secondary assists:     0  0  0  1  3  4  9  6  1  0  0  0  0\n\nratios: [0.43, 0.93, 0.86]\n\n"
     ]
    }
   ],
   "source": [
    "outputResults(\"joe thornton\",jt)"
   ]
  },
  {
   "cell_type": "code",
   "execution_count": null,
   "metadata": {},
   "outputs": [],
   "source": []
  }
 ]
}
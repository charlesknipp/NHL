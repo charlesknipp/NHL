{
 "metadata": {
  "language_info": {
   "codemirror_mode": {
    "name": "ipython",
    "version": 3
   },
   "file_extension": ".py",
   "mimetype": "text/x-python",
   "name": "python",
   "nbconvert_exporter": "python",
   "pygments_lexer": "ipython3",
   "version": "3.8.2-final"
  },
  "orig_nbformat": 2,
  "kernelspec": {
   "name": "python3",
   "display_name": "Python 3.8.2 64-bit",
   "metadata": {
    "interpreter": {
     "hash": "03561ee3ffd67d114b1e0f93376ddc6c0108d7fb9eed7df46da42d048fecaa5f"
    }
   }
  }
 },
 "nbformat": 4,
 "nbformat_minor": 2,
 "cells": [
  {
   "cell_type": "code",
   "execution_count": 32,
   "metadata": {},
   "outputs": [],
   "source": [
    "import requests"
   ]
  },
  {
   "cell_type": "code",
   "execution_count": 33,
   "metadata": {},
   "outputs": [],
   "source": [
    "# calculates the significance of a given score (not 100% sure yet)\n",
    "def calculateSignificance(relative_to_final):\n",
    "    if relative_to_final == -1:\n",
    "        return 1\n",
    "    elif relative_to_final == 0:\n",
    "        return 2\n",
    "    elif relative_to_final == 1:\n",
    "        return 3\n",
    "    elif relative_to_final == 2:\n",
    "        return 4\n",
    "    else:\n",
    "        return 0"
   ]
  },
  {
   "cell_type": "code",
   "execution_count": 34,
   "metadata": {},
   "outputs": [],
   "source": [
    "# converts the player name to a less cluttered: FIRST_INITIAL.LAS_TNAME\n",
    "def refine(str):\n",
    "    str1 = \"\".join([i for i in str if not i.isdigit()])\n",
    "    str2 = str1.strip().replace(\"()\",\"\")\n",
    "    return str2"
   ]
  },
  {
   "cell_type": "code",
   "execution_count": 35,
   "metadata": {},
   "outputs": [],
   "source": [
    "# implement a filtration for unwanted text in place of blank observations\n",
    "def scrapeGame(game_num,season):\n",
    "    szn = str(season)+str(season+1)\n",
    "    url = \"http://www.nhl.com/scores/htmlreports/\"+szn+\"/GS02\"+str(game_num).zfill(4)+\".HTM\"\n",
    "    web_page = requests.get(url)\n",
    "    raw_html = web_page.text\n",
    "\n",
    "    html = raw_html.split(\"\\n\")\n",
    "\n",
    "    for i in range(len(html)):\n",
    "        if \"Goal Scorer\" in html[i]:\n",
    "            idx = i-7\n",
    "            break\n",
    "\n",
    "    table = []\n",
    "    row = []\n",
    "\n",
    "    while True:\n",
    "        item = html[idx]\n",
    "\n",
    "        if \"<td\" in item:\n",
    "            row.append(item[item.find(\">\")+1:item.find(\"</\")].strip())\n",
    "        elif \"</tr>\" in item:\n",
    "            table.append(row)\n",
    "            row = []\n",
    "\n",
    "        # this condition breaks the while loop\n",
    "        if \"</table>\" in item:\n",
    "            break\n",
    "\n",
    "        idx += 1\n",
    "\n",
    "    goals = table[1:len(table)]\n",
    "    teams = list(set([goal[4] for goal in goals]))\n",
    "    rel_pts = [0]*len(goals)\n",
    "    rel_sig = [0]*len(goals)\n",
    "\n",
    "    team1,team2 = 0,0\n",
    "    score1,score2 = 0,0\n",
    "\n",
    "    for i in range(len(goals)):\n",
    "        if goals[i][4] == teams[0]:\n",
    "            team1 += 1\n",
    "            rel_pts[i] = team1-team2\n",
    "        else:\n",
    "            team2 += 1\n",
    "            rel_pts[i] = team2-team1\n",
    "\n",
    "    for i in range(len(goals)):\n",
    "        if goals[i][4] == teams[0]:\n",
    "            score1 += 1\n",
    "            pts_rel =  score1 - team2\n",
    "            rel_sig[i] = calculateSignificance(pts_rel)\n",
    "        else:\n",
    "            score2 += 1\n",
    "            pts_rel =  score2 - team1\n",
    "            rel_sig[i] = calculateSignificance(pts_rel)\n",
    "\n",
    "    goal_scorers = [refine(goal[5]) for goal in goals]\n",
    "    primary_assisters = [refine(goal[6]) for goal in goals]\n",
    "    secondary_assisters = [refine(goal[7]) for goal in goals]\n",
    "\n",
    "    goal_output = [False]*len(goals)\n",
    "    assist1_output = [False]*len(goals)\n",
    "    assist2_output = [False]*len(goals)\n",
    "\n",
    "    for i in range(len(goals)):\n",
    "        goal_output[i] = [goal_scorers[i],\"goal\",game_num,rel_pts[i],rel_sig[i]]\n",
    "        assist1_output[i] = [primary_assisters[i],\"primary assist\",game_num,rel_pts[i],rel_sig[i]]\n",
    "        assist2_output[i] = [secondary_assisters[i],\"secondary assist\",game_num,rel_pts[i],rel_sig[i]]\n",
    "\n",
    "    return goal_output,assist1_output,assist2_output"
   ]
  },
  {
   "cell_type": "code",
   "execution_count": 38,
   "metadata": {},
   "outputs": [],
   "source": [
    "(goals,p_assists,s_assists) = scrapeGame(33,2016)"
   ]
  },
  {
   "cell_type": "code",
   "execution_count": 39,
   "metadata": {},
   "outputs": [
    {
     "output_type": "stream",
     "name": "stdout",
     "text": [
      "['M.STAAL', 'goal', 33, 1, 0]\n['L.COUTURE', 'goal', 33, 0, 0]\n['R.NASH', 'goal', 33, 1, 0]\n['C.KREIDER', 'goal', 33, 2, 1]\n['B.BURNS', 'goal', 33, -1, 0]\n['K.HAYES', 'goal', 33, 2, 2]\n['J.VESEY', 'goal', 33, 3, 3]\n['B.BURNS', 'goal', 33, -2, 0]\n['J.PAVELSKI', 'goal', 33, -1, 0]\n['M.ZUCCARELLO', 'goal', 33, 2, 4]\n['M.GRABNER', 'goal', 33, 3, 0]\n"
     ]
    }
   ],
   "source": [
    "for goal in goals:\n",
    "    print(goal)"
   ]
  },
  {
   "cell_type": "code",
   "execution_count": 42,
   "metadata": {},
   "outputs": [
    {
     "output_type": "stream",
     "name": "stdout",
     "text": [
      "['D.STEPAN', 'primary assist', 33, 1, 0]\n['J.PAVELSKI', 'primary assist', 33, 0, 0]\n['R.MCDONAGH', 'primary assist', 33, 1, 0]\n['R.MCDONAGH', 'primary assist', 33, 2, 1]\n['J.PAVELSKI', 'primary assist', 33, -1, 0]\n['J.FAST', 'primary assist', 33, 2, 2]\n['D.STEPAN', 'primary assist', 33, 3, 3]\n['J.PAVELSKI', 'primary assist', 33, -2, 0]\n['B.BURNS', 'primary assist', 33, -1, 0]\n['unassisted', 'primary assist', 33, 2, 4]\n['unassisted', 'primary assist', 33, 3, 0]\n"
     ]
    }
   ],
   "source": [
    "for assist in p_assists:\n",
    "    print(assist)"
   ]
  },
  {
   "cell_type": "code",
   "execution_count": null,
   "metadata": {},
   "outputs": [],
   "source": [
    "for assist in s_assists:\n",
    "    print(assist)"
   ]
  }
 ]
}